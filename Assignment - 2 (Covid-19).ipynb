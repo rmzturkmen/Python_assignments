{
 "cells": [
  {
   "cell_type": "code",
   "execution_count": 2,
   "metadata": {},
   "outputs": [
    {
     "name": "stdout",
     "output_type": "stream",
     "text": [
      "Are you a cigarette addict older than 75 years old? (Yes/No) Yes\n",
      "Do you have a severe chronic disease? (Yes/No) No\n",
      "Is your immune system too weak? (Yes/No) No\n",
      "You are in risky group.\n"
     ]
    }
   ],
   "source": [
    "# Assignment - 2 (Covid-19)\n",
    "\n",
    "age = input(\"Are you a cigarette addict older than 75 years old? (Yes/No) \")\n",
    "\n",
    "chronic = input(\"Do you have a severe chronic disease? (Yes/No) \")\n",
    "\n",
    "immune = input(\"Is your immune system too weak? (Yes/No) \")\n",
    "\n",
    "antwoord1 = \"Yes\"\n",
    "\n",
    "antwoord2 = \"No\"\n",
    "\n",
    "if age == antwoord1 or chronic == antwoord1 or immune == antwoord1:\n",
    "    print(\"You are in risky group.\")\n",
    "\n",
    "else: \n",
    "    print(\"You are not in risky group.\")"
   ]
  },
  {
   "cell_type": "code",
   "execution_count": null,
   "metadata": {},
   "outputs": [],
   "source": []
  }
 ],
 "metadata": {
  "kernelspec": {
   "display_name": "Python 3",
   "language": "python",
   "name": "python3"
  },
  "language_info": {
   "codemirror_mode": {
    "name": "ipython",
    "version": 3
   },
   "file_extension": ".py",
   "mimetype": "text/x-python",
   "name": "python",
   "nbconvert_exporter": "python",
   "pygments_lexer": "ipython3",
   "version": "3.7.6"
  }
 },
 "nbformat": 4,
 "nbformat_minor": 4
}

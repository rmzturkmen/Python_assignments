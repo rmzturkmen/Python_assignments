{
 "cells": [
  {
   "cell_type": "code",
   "execution_count": 16,
   "metadata": {
    "tags": []
   },
   "outputs": [
    {
     "output_type": "stream",
     "name": "stdout",
     "text": "1800 is a not leap year.\n"
    }
   ],
   "source": [
    "# Assignment - 8 (Leap Year)\n",
    "\n",
    "lpyr = int(input(\"Please enter a year:  \"))\n",
    "\n",
    "if lpyr % 4 == 0 and lpyr % 100 != 0 or lpyr % 400 == 0:\n",
    "\n",
    "    print (\"{0} is a leap year.\".format(lpyr))\n",
    "\n",
    "else:\n",
    "\n",
    "    print(\"{0} is a not leap year.\".format(lpyr))"
   ]
  },
  {
   "cell_type": "code",
   "execution_count": null,
   "metadata": {},
   "outputs": [],
   "source": []
  }
 ],
 "metadata": {
  "kernelspec": {
   "display_name": "Python 3",
   "language": "python",
   "name": "python3"
  },
  "language_info": {
   "codemirror_mode": {
    "name": "ipython",
    "version": 3
   },
   "file_extension": ".py",
   "mimetype": "text/x-python",
   "name": "python",
   "nbconvert_exporter": "python",
   "pygments_lexer": "ipython3",
   "version": "3.7.6"
  }
 },
 "nbformat": 4,
 "nbformat_minor": 4
}
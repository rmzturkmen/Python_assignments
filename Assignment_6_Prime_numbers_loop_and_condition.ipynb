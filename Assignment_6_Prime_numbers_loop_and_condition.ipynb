{
 "cells": [
  {
   "cell_type": "code",
   "execution_count": 2,
   "metadata": {},
   "outputs": [
    {
     "name": "stdout",
     "output_type": "stream",
     "text": [
      "Please enter the range : 100\n",
      "The prime number lists = [2, 3, 5, 7, 11, 13, 17, 19, 23, 29, 31, 37, 41, 43, 47, 53, 59, 61, 67, 71, 73, 79, 83, 89, 97] "
     ]
    }
   ],
   "source": [
    "# Prime number (Loops and Conditions)\n",
    "number = int(input(\"Please enter the range : \"))\n",
    "lst = [ ]\n",
    "for iter in range(2, number):\n",
    "    for i in range(2, iter):\n",
    "        if (iter % i == 0):\n",
    "            #lst.append(iter)\n",
    "            break\n",
    "    else:\n",
    "        lst.append(iter)\n",
    "print(f\"The prime number lists = {lst}\", end = \" \")"
   ]
  },
  {
   "cell_type": "code",
   "execution_count": null,
   "metadata": {},
   "outputs": [],
   "source": []
  }
 ],
 "metadata": {
  "kernelspec": {
   "display_name": "Python 3",
   "language": "python",
   "name": "python3"
  },
  "language_info": {
   "codemirror_mode": {
    "name": "ipython",
    "version": 3
   },
   "file_extension": ".py",
   "mimetype": "text/x-python",
   "name": "python",
   "nbconvert_exporter": "python",
   "pygments_lexer": "ipython3",
   "version": "3.7.6"
  }
 },
 "nbformat": 4,
 "nbformat_minor": 4
}

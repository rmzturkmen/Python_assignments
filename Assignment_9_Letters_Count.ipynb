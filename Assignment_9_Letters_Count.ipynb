{
 "cells": [
  {
   "cell_type": "code",
   "execution_count": 29,
   "metadata": {},
   "outputs": [
    {
     "name": "stdout",
     "output_type": "stream",
     "text": [
      "Please enter a word/sentence:  Try to be positive!\n",
      "{'T': 1, 'r': 1, 'y': 1, ' ': 3, 't': 2, 'o': 2, 'b': 1, 'e': 2, 'p': 1, 's': 1, 'i': 2, 'v': 1, '!': 1}\n"
     ]
    }
   ],
   "source": [
    "sentence = input(\"Please enter a word/sentence:  \")\n",
    "\n",
    "d = dict( )\n",
    "for letter in sentence: \n",
    "    if letter not in d:\n",
    "        d[letter] = 1\n",
    "    else:\n",
    "        d[letter] += 1 \n",
    "print(d)"
   ]
  },
  {
   "cell_type": "code",
   "execution_count": null,
   "metadata": {},
   "outputs": [],
   "source": []
  }
 ],
 "metadata": {
  "kernelspec": {
   "display_name": "Python 3",
   "language": "python",
   "name": "python3"
  },
  "language_info": {
   "codemirror_mode": {
    "name": "ipython",
    "version": 3
   },
   "file_extension": ".py",
   "mimetype": "text/x-python",
   "name": "python",
   "nbconvert_exporter": "python",
   "pygments_lexer": "ipython3",
   "version": "3.7.6"
  }
 },
 "nbformat": 4,
 "nbformat_minor": 4
}

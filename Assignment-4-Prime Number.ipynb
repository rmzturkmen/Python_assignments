{
 "cells": [
  {
   "cell_type": "code",
   "execution_count": null,
   "metadata": {},
   "outputs": [],
   "source": [
    "# Assignment - 4 (Is it a Prime Number?)\n",
    "\n",
    "number = int(input(\"Please enter a positive number: \"))\n",
    "\n",
    "if number % 2  == 0 or number < 0 :\n",
    "    print(f\"{number} is not a prime number.\")\n",
    "    \n",
    "else:    \n",
    "    for i in range(2, number):\n",
    "        if number % i == 0 :\n",
    "            print(f\"{number} is not a prime number.\")\n",
    "            break\n",
    "            \n",
    "    else:\n",
    "        print(f\"{number} is a prime number.\")"
   ]
  }
 ],
 "metadata": {
  "kernelspec": {
   "display_name": "Python 3",
   "language": "python",
   "name": "python3"
  },
  "language_info": {
   "codemirror_mode": {
    "name": "ipython",
    "version": 3
   },
   "file_extension": ".py",
   "mimetype": "text/x-python",
   "name": "python",
   "nbconvert_exporter": "python",
   "pygments_lexer": "ipython3",
   "version": "3.7.6"
  }
 },
 "nbformat": 4,
 "nbformat_minor": 4
}

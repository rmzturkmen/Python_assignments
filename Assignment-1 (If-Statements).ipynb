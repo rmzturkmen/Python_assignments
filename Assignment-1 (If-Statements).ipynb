{
 "cells": [
  {
   "cell_type": "code",
   "execution_count": 4,
   "metadata": {},
   "outputs": [
    {
     "name": "stdout",
     "output_type": "stream",
     "text": [
      "Enter your name: Ramazan\n",
      "Hello, Ramazan! The password is : W@12\n"
     ]
    }
   ],
   "source": [
    "# Assignment-1(If-Statements)\n",
    "\n",
    "your_name = input (\"Enter your name: \")\n",
    "\n",
    "my_name = \"Ramazan\"\n",
    "\n",
    "password = \"W@12\"\n",
    "\n",
    "if your_name == my_name:\n",
    "    \n",
    "  print(f\"Hello, {my_name}! The password is : {password}\")\n",
    "\n",
    "else:\n",
    "    \n",
    "  print(f\"Hello, {your_name}! See you later.\")\n"
   ]
  },
  {
   "cell_type": "code",
   "execution_count": null,
   "metadata": {},
   "outputs": [],
   "source": []
  }
 ],
 "metadata": {
  "kernelspec": {
   "display_name": "Python 3",
   "language": "python",
   "name": "python3"
  },
  "language_info": {
   "codemirror_mode": {
    "name": "ipython",
    "version": 3
   },
   "file_extension": ".py",
   "mimetype": "text/x-python",
   "name": "python",
   "nbconvert_exporter": "python",
   "pygments_lexer": "ipython3",
   "version": "3.7.6"
  }
 },
 "nbformat": 4,
 "nbformat_minor": 4
}
